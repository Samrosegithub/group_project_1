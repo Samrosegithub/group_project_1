{
 "cells": [
  {
   "cell_type": "code",
   "execution_count": null,
   "id": "421927e3",
   "metadata": {},
   "outputs": [],
   "source": [
    "# Dependencies and Setup\n",
    "import matplotlib.pyplot as plt\n",
    "import pandas as pd\n",
    "import numpy as np\n",
    "import requests\n",
    "from scipy.stats import linregress\n",
    "import requests\n",
    "import json\n",
    "\n",
    "# Import the API key\n",
    "from api_key import api_key\n",
    "\n",
    "#set base url\n",
    "url = f\"http://www.omdbapi.com/?apikey={api_key}&t=\""
   ]
  },
  {
   "cell_type": "code",
   "execution_count": null,
   "id": "35337cfc",
   "metadata": {},
   "outputs": [],
   "source": []
  },
  {
   "cell_type": "code",
   "execution_count": null,
   "id": "b757b2a8",
   "metadata": {},
   "outputs": [],
   "source": []
  }
 ],
 "metadata": {
  "kernelspec": {
   "display_name": "Python 3 (ipykernel)",
   "language": "python",
   "name": "python3"
  },
  "language_info": {
   "codemirror_mode": {
    "name": "ipython",
    "version": 3
   },
   "file_extension": ".py",
   "mimetype": "text/x-python",
   "name": "python",
   "nbconvert_exporter": "python",
   "pygments_lexer": "ipython3",
   "version": "3.7.15"
  }
 },
 "nbformat": 4,
 "nbformat_minor": 5
}
