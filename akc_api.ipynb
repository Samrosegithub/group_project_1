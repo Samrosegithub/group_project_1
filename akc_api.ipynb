{
 "cells": [
  {
   "cell_type": "code",
   "execution_count": 43,
   "id": "938fc0ca",
   "metadata": {},
   "outputs": [],
   "source": [
    "import requests\n",
    "import json\n",
    "# from config import api_key\n",
    "from pprint import pprint"
   ]
  },
  {
   "cell_type": "code",
   "execution_count": 52,
   "id": "996640c2",
   "metadata": {},
   "outputs": [
    {
     "name": "stdout",
     "output_type": "stream",
     "text": [
      "[{'barking': 1,\n",
      "  'coat_length': 1,\n",
      "  'drooling': 2,\n",
      "  'energy': 3,\n",
      "  'good_with_children': 5,\n",
      "  'good_with_other_dogs': 5,\n",
      "  'good_with_strangers': 5,\n",
      "  'grooming': 2,\n",
      "  'image_link': 'https://api-ninjas.com/images/dogs/golden_retriever.jpg',\n",
      "  'max_height_female': 24.0,\n",
      "  'max_height_male': 24.0,\n",
      "  'max_life_expectancy': 12.0,\n",
      "  'max_weight_female': 65.0,\n",
      "  'max_weight_male': 75.0,\n",
      "  'min_height_female': 23.0,\n",
      "  'min_height_male': 23.0,\n",
      "  'min_life_expectancy': 10.0,\n",
      "  'min_weight_female': 55.0,\n",
      "  'min_weight_male': 65.0,\n",
      "  'name': 'Golden Retriever',\n",
      "  'playfulness': 4,\n",
      "  'protectiveness': 3,\n",
      "  'shedding': 4,\n",
      "  'trainability': 5}]\n"
     ]
    },
    {
     "data": {
      "text/plain": [
       "'https://api.api-ninjas.com/v1/dogs?name=golden retriever'"
      ]
     },
     "execution_count": 52,
     "metadata": {},
     "output_type": "execute_result"
    }
   ],
   "source": [
    "name = 'golden retriever'\n",
    "\n",
    "url = 'https://api.api-ninjas.com/v1/dogs?name={}'.format(name)\n",
    "response = requests.get(url, headers={'X-Api-Key': 'hQXpxGFZ4I6Mcf7vlloE0g==tXNBsn8nEzWEzrgp'})\n",
    "\n",
    "dogs = response.json()\n",
    "\n",
    "# pprint(response.text)\n",
    "pprint(dogs)"
   ]
  },
  {
   "cell_type": "code",
   "execution_count": 83,
   "id": "bb15326d",
   "metadata": {},
   "outputs": [],
   "source": [
    "dog_list = ['Affenpinscher', 'Afghan Hound', 'Airedale Terrier', 'Akita', 'Alaskan Malamute', 'American Bulldog',\n",
    "            'American English Coonhound', 'American Eskimo Dog', 'American Foxhound', 'American Hairless Terrier',\n",
    "            'American Leopard Hound', 'American Staffordshire Terrier', 'American Water Spaniel',\n",
    "            'Anatolian Shepherd Dog', 'Appenzeller Sennenhund', 'Australian Cattle Dog', 'Australian Kelpie', \n",
    "            'Australian Shepherd', 'Australian Stumpy Tail Cattle Dog', 'Australian Terrier', 'Azawakh', 'Barbet', \n",
    "            'Basenji', 'Basset Fauve de Bretagne', 'Basset Hound', 'Bavarian Mountain Scent Hound', 'Beagle', \n",
    "            'Bearded Collie', 'Beauceron', 'Bedlington Terrier', 'Belgian Laekenois', 'Belgian Malinois', \n",
    "            'Belgian Sheepdog', 'Belgian Tervuren', 'Bergamasco Sheepdog', 'Berger Picard', 'Bernese Mountain Dog', \n",
    "            'Bichon Frise', 'Biewer Terrier', 'Black and Tan Coonhound', 'Black Russian Terrier', 'Bloodhound', \n",
    "            'Bluetick Coonhound', 'Boerboel', 'Bohemian Shepherd', 'Bolognese', 'Border Collie', 'Border Terrier', \n",
    "            'Borzoi', 'Boston Terrier', 'Bouvier des Flandres', 'Boxer', 'Boykin Spaniel', 'Bracco Italiano', \n",
    "            'Braque du Bourbonnais', 'Braque Francais Pyrenean', 'Briard', 'Brittany', 'Broholmer', 'Brussels Griffon', \n",
    "            'Bull Terrier', 'Bulldog', 'Bullmastiff', 'Cairn Terrier', 'Canaan Dog', 'Cane Corso', \n",
    "            'Cardigan Welsh Corgi', 'Carolina Dog', 'Catahoula Leopard Dog', 'Caucasian Shepherd Dog', \n",
    "            'Cavalier King Charles Spaniel', 'Central Asian Shepherd Dog', 'Cesky Terrier', \n",
    "            'Chesapeake Bay Retriever', 'Chihuahua', 'Chinese Crested', 'Chinese Shar-Pei', 'Chinook', \n",
    "            'Chow Chow', 'Cirneco dell‚ÄôEtna', 'Clumber Spaniel', 'Cocker Spaniel', 'Collie', 'Coton de Tulear', \n",
    "            'Croatian Sheepdog', 'Curly-Coated Retriever', 'Czechoslovakian Vlcak', 'Dachshund', 'Dalmatian', \n",
    "            'Dandie Dinmont Terrier', 'Danish-Swedish Farmdog', 'Deutscher Wachtelhund', 'Doberman Pinscher', \n",
    "            'Dogo Argentino', 'Dogue de Bordeaux', 'Drentsche Patrijshond', 'Drever', 'Dutch Shepherd', \n",
    "            'English Cocker Spaniel', 'English Foxhound', 'English Setter', 'English Springer Spaniel', \n",
    "            'English Toy Spaniel', 'Entlebucher Mountain Dog', 'Estrela Mountain Dog', 'Eurasier', 'Field Spaniel', \n",
    "            'Finnish Lapphund', 'Finnish Spitz', 'Flat-Coated Retriever', 'French Bulldog', 'French Spaniel', \n",
    "            'German Longhaired Pointer', 'German Pinscher', 'German Shepherd Dog', 'German Shorthaired Pointer', \n",
    "            'German Spitz', 'German Wirehaired Pointer', 'Giant Schnauzer', 'Glen of Imaal Terrier', 'Golden Retriever',\n",
    "            'Gordon Setter', 'Grand Basset Griffon Vendeen', 'Great Dane', 'Great Pyrenees', \n",
    "            'Greater Swiss Mountain Dog', 'Greyhound', 'Hamiltonstovare', 'Hanoverian Scenthound', \n",
    "            'Harrier', 'Havanese', 'Hokkaido', 'Hovawart', 'Ibizan Hound', 'Icelandic Sheepdog', \n",
    "            'Irish Red and White Setter', 'Irish Setter', 'Irish Terrier', 'Irish Water Spaniel', 'Irish Wolfhound', \n",
    "            'Italian Greyhound', 'Jagdterrier', 'Japanese Chin', 'Japanese Spitz', 'Jindo', 'Kai Ken', \n",
    "            'Karelian Bear Dog', 'Keeshond', 'Kerry Blue Terrier', 'Kishu Ken', 'Komondor', 'Kromfohrlander', \n",
    "            'Kuvasz', 'Labrador Retriever', 'Lagotto Romagnolo', 'Lakeland Terrier', 'Lancashire Heeler', \n",
    "            'Lapponian Herder', 'Leonberger', 'Lhasa Apso', 'Lowchen', 'Maltese', 'Manchester Terrier (Standard)', \n",
    "            'Manchester Terrier (Toy)', 'Mastiff', 'Miniature American Shepherd', 'Miniature Bull Terrier', \n",
    "            'Miniature Pinscher', 'Miniature Schnauzer', 'Mountain Cur', 'Mudi', 'Neapolitan Mastiff', \n",
    "            'Nederlandse Kooikerhondje', 'Newfoundland', 'Norfolk Terrier', 'Norrbottenspets', 'Norwegian Buhund', \n",
    "            'Norwegian Elkhound', 'Norwegian Lundehund', 'Norwich Terrier', 'Nova Scotia Duck Tolling Retriever', \n",
    "            'Old English Sheepdog', 'Otterhound', 'Papillon', 'Parson Russell Terrier', 'Pekingese', \n",
    "            'Pembroke Welsh Corgi', 'Perro de Presa Canario', 'Peruvian Inca Orchid', 'Petit Basset Griffon Vendeen',\n",
    "            'Pharaoh Hound', 'Plott Hound', 'Pointer', 'Polish Lowland Sheepdog', 'Pomeranian', \n",
    "            'Poodle (Miniature)', 'Poodle (Standard)', 'Poodle (Toy)', 'Porcelaine', 'Portuguese Podengo', \n",
    "            'Portuguese Podengo Pequeno', 'Portuguese Pointer', 'Portuguese Sheepdog', 'Portuguese Water Dog', \n",
    "            'Pudelpointer', 'Pug', 'Puli', 'Pumi', 'Pyrenean Mastiff', 'Pyrenean Shepherd', 'Rafeiro do Alentejo', \n",
    "            'Rat Terrier', 'Redbone Coonhound', 'Rhodesian Ridgeback', 'Romanian Mioritic Shepherd Dog', \n",
    "            'Rottweiler', 'Russell Terrier', 'Russian Toy', 'Russian Tsvetnaya Bolonka', 'Saint Bernard', \n",
    "            'Saluki', 'Samoyed', 'Schapendoes', 'Schipperke', 'Scottish Deerhound', 'Scottish Terrier', \n",
    "            'Sealyham Terrier', 'Segugio Italiano', 'Shetland Sheepdog', 'Shiba Inu', 'Shih Tzu', 'Shikoku', \n",
    "            'Siberian Husky', 'Silky Terrier', 'Skye Terrier', 'Sloughi', 'Slovakian Wirehaired Pointer', \n",
    "            'Slovensky Cuvac', 'Slovensky Kopov', 'Small Munsterlander Pointer', 'Smooth Fox Terrier', \n",
    "            'Soft Coated Wheaten Terrier', 'Spanish Mastiff', 'Spanish Water Dog', 'Spinone Italiano', \n",
    "            'Stabyhoun', 'Staffordshire Bull Terrier', 'Standard Schnauzer', 'Sussex Spaniel', 'Swedish Lapphund', \n",
    "            'Swedish Vallhund', 'Taiwan Dog', 'Teddy Roosevelt Terrier', 'Thai Ridgeback', 'Tibetan Mastiff', \n",
    "            'Tibetan Spaniel', 'Tibetan Terrier', 'Tornjak', 'Tosa', 'Toy Fox Terrier', 'Transylvanian Hound', \n",
    "            'Treeing Tennessee Brindle', 'Treeing Walker Coonhound', 'Vizsla', 'Weimaraner', \n",
    "            'Welsh Springer Spaniel', 'Welsh Terrier', 'West Highland White Terrier', 'Wetterhoun', 'Whippet', \n",
    "            'Wire Fox Terrier', 'Wirehaired Pointing Griffon', 'Wirehaired Vizsla', 'Working Kelpie', \n",
    "            'Xoloitzcuintli', 'Yakutian Laika', 'Yorkshire Terrier']"
   ]
  },
  {
   "cell_type": "code",
   "execution_count": 85,
   "id": "2d32f427",
   "metadata": {},
   "outputs": [],
   "source": [
    "\n",
    "list_num = (-1) \n",
    "dog_data = []\n",
    "\n",
    "for i in dog_list:\n",
    "    list_num += 1\n",
    "    name = dog_list[list_num]\n",
    "    url = 'https://api.api-ninjas.com/v1/dogs?name={}'.format(name)\n",
    "    response = requests.get(url, headers={'X-Api-Key': 'hQXpxGFZ4I6Mcf7vlloE0g==tXNBsn8nEzWEzrgp'})\n",
    "    dogs = response.json()\n",
    "\n",
    "    # need to change code here\n",
    "    dog_data.append(dogs)\n"
   ]
  },
  {
   "cell_type": "code",
   "execution_count": 86,
   "id": "a9a9788d",
   "metadata": {},
   "outputs": [
    {
     "ename": "TypeError",
     "evalue": "list indices must be integers or slices, not str",
     "output_type": "error",
     "traceback": [
      "\u001b[0;31m---------------------------------------------------------------------------\u001b[0m",
      "\u001b[0;31mTypeError\u001b[0m                                 Traceback (most recent call last)",
      "\u001b[0;32m/var/folders/r2/yjhfv6_50sbfpkf2wsrnphfh0000gn/T/ipykernel_73072/1371836884.py\u001b[0m in \u001b[0;36m<module>\u001b[0;34m\u001b[0m\n\u001b[0;32m----> 1\u001b[0;31m \u001b[0mdog_dict\u001b[0m\u001b[0;34m[\u001b[0m\u001b[0;34m\"name\"\u001b[0m\u001b[0;34m]\u001b[0m\u001b[0;34m\u001b[0m\u001b[0;34m\u001b[0m\u001b[0m\n\u001b[0m",
      "\u001b[0;31mTypeError\u001b[0m: list indices must be integers or slices, not str"
     ]
    }
   ],
   "source": []
  },
  {
   "cell_type": "code",
   "execution_count": null,
   "id": "e802f0ea",
   "metadata": {},
   "outputs": [],
   "source": []
  }
 ],
 "metadata": {
  "kernelspec": {
   "display_name": "Python 3 (ipykernel)",
   "language": "python",
   "name": "python3"
  },
  "language_info": {
   "codemirror_mode": {
    "name": "ipython",
    "version": 3
   },
   "file_extension": ".py",
   "mimetype": "text/x-python",
   "name": "python",
   "nbconvert_exporter": "python",
   "pygments_lexer": "ipython3",
   "version": "3.9.13"
  }
 },
 "nbformat": 4,
 "nbformat_minor": 5
}
